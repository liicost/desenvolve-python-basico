{
 "cells": [
  {
   "cell_type": "markdown",
   "metadata": {
    "id": "1pCTdOHonv5f"
   },
   "source": [
    "# Módulo 2\n",
    "\n",
    "## 2.3 Instruções e Expressões\n",
    "\n",
    "### Q1\n",
    "\n",
    "Faça um programa que armazene o valor de 20 reais de salário por hora de um trabalhador, e o número de 40 horas trabalhadas na semana. Com essas informações, calcule e imprima:\n",
    "- Salário semanal bruto\n",
    "- Valor descontado por semana INSS (10% do bruto)\n",
    "- Valor descontado por semana pelo sindicato (5% do bruto)\n",
    "- Salário semanal líquido (Bruto - Descontos)"
   ]
  },
  {
   "cell_type": "code",
   "execution_count": 4,
   "metadata": {
    "id": "hVbX0I97nj6M"
   },
   "outputs": [
    {
     "name": "stdout",
     "output_type": "stream",
     "text": [
      "Salário semanal bruto: R$ 800\n",
      "Desconto INSS: R$ 80.0\n",
      "Desconto sindicato: R$ 40.0\n",
      "Salário semanal líquido: R$ 680.0\n"
     ]
    }
   ],
   "source": [
    "\n",
    "salario_por_hora = 20\n",
    "horas_trabalhadas = 40\n",
    "\n",
    "salario_bruto = salario_por_hora * horas_trabalhadas\n",
    "desconto_inss = salario_bruto * 0.10\n",
    "desconto_sindicato = salario_bruto * 0.05\n",
    "salario_liquido = salario_bruto - desconto_inss - desconto_sindicato\n",
    "\n",
    "print(\"Salário semanal bruto: R$\", salario_bruto)\n",
    "print(\"Desconto INSS: R$\", desconto_inss)\n",
    "print(\"Desconto sindicato: R$\", desconto_sindicato)\n",
    "print(\"Salário semanal líquido: R$\", salario_liquido)"
   ]
  },
  {
   "cell_type": "markdown",
   "metadata": {
    "id": "pIxKX9J2oGZ1"
   },
   "source": [
    "### Q2\n",
    "\n",
    "Altere o programa anterior para a partir dos valores de horas trabalhadas por semana e salário por hora, calcular **em somente duas instruções**:\n",
    "- Salário semanal bruto\n",
    "- Salário semanal líquido com todos os descontos. Para a segunda instrução, realize todos os cálculos aritméticos em uma expressão composta.\n"
   ]
  },
  {
   "cell_type": "code",
   "execution_count": 3,
   "metadata": {
    "id": "pAHw9Xf9oGoi"
   },
   "outputs": [
    {
     "name": "stdout",
     "output_type": "stream",
     "text": [
      "Salário bruto: 800 | Salário líquido: 680.0\n"
     ]
    }
   ],
   "source": [
    "salario_bruto = 20 * 40\n",
    "salario_liquido = salario_bruto - (salario_bruto * 0.10) - (salario_bruto * 0.05)\n",
    "\n",
    "print(\"Salário bruto:\", salario_bruto, \"| Salário líquido:\", salario_liquido)"
   ]
  },
  {
   "cell_type": "markdown",
   "metadata": {
    "id": "m8tlHRuWpBOB"
   },
   "source": [
    "### Q3\n",
    "\n",
    "Você está desenvolvendo um software de conversão de moeda e precisa calcular o valor equivalente em yuan chinês a partir de uma quantia em real. A taxa de câmbio é de 0.69 BRL (real) para 1 CNY (yuan). Escreva um programa que define em uma variável uma quantia em reais (BRL) e calcula o valor equivalente em yuan (CNY). Imprima o resultado."
   ]
  },
  {
   "cell_type": "code",
   "execution_count": 2,
   "metadata": {
    "id": "2bPw7uF6oeL9"
   },
   "outputs": [
    {
     "name": "stdout",
     "output_type": "stream",
     "text": [
      "R$ 100 equivale a ¥ 52.0\n"
     ]
    }
   ],
   "source": [
    "valor_brl = 100  # Exemplo: R$100\n",
    "taxa_cambio = 0.52\n",
    "\n",
    "valor_cny = valor_brl * taxa_cambio\n",
    "\n",
    "print(\"R$\", valor_brl, \"equivale a ¥\", valor_cny)"
   ]
  },
  {
   "cell_type": "markdown",
   "metadata": {
    "id": "-Na3ltDCp74A"
   },
   "source": [
    "### Q4\n",
    "\n",
    "Você é um treinador de corrida e deseja calcular a velocidade média que um atleta precisa manter para completar a Maratona Internacional de São Silvestre, que tem uma distância total de 42.195 km. A fórmula para calcular a velocidade média ($v\\_media$) é dada por $v\\_media = \\frac{distancia}{tempo}$ . Escreva um programa em Python para calcular a velocidade média necessária para completar a maratona em 3 horas.\n",
    "\n",
    "**Calcule e imprima o resultado em metros/segundo**, ou seja, converta a distância de quilômetros para metros ($metro = \\frac{km}{1000}$) e a velocidade de horas para segundos $(segundo = \\frac{hora}{3600})$."
   ]
  },
  {
   "cell_type": "code",
   "execution_count": 1,
   "metadata": {
    "id": "Bn6l8kcSrE4L"
   },
   "outputs": [
    {
     "name": "stdout",
     "output_type": "stream",
     "text": [
      "A velocidade média necessária é: 3.9069444444444446 m/s\n"
     ]
    }
   ],
   "source": [
    " #Distância em metros\n",
    "distancia_metros = 42.195 * 1000\n",
    "\n",
    "# Tempo em segundos\n",
    "tempo_segundos = 3 * 3600\n",
    "\n",
    "# Velocidade média em metros por segundo\n",
    "velocidade_media = distancia_metros / tempo_segundos\n",
    "\n",
    "# Imprime o resultado\n",
    "print(\"A velocidade média necessária é:\", velocidade_media, \"m/s\")"
   ]
  },
  {
   "cell_type": "code",
   "execution_count": null,
   "metadata": {},
   "outputs": [],
   "source": []
  }
 ],
 "metadata": {
  "colab": {
   "provenance": []
  },
  "kernelspec": {
   "display_name": "Python 3 (ipykernel)",
   "language": "python",
   "name": "python3"
  },
  "language_info": {
   "codemirror_mode": {
    "name": "ipython",
    "version": 3
   },
   "file_extension": ".py",
   "mimetype": "text/x-python",
   "name": "python",
   "nbconvert_exporter": "python",
   "pygments_lexer": "ipython3",
   "version": "3.12.3"
  }
 },
 "nbformat": 4,
 "nbformat_minor": 4
}
